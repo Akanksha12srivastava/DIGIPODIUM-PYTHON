{
 "cells": [
  {
   "cell_type": "code",
   "execution_count": 2,
   "metadata": {},
   "outputs": [
    {
     "name": "stdout",
     "output_type": "stream",
     "text": [
      "12 56 23 56 78 21 "
     ]
    }
   ],
   "source": [
    "x = [12,56,23,56,78,21]\n",
    "for item in x :\n",
    "    print (item, end=\" \")"
   ]
  },
  {
   "cell_type": "code",
   "execution_count": 10,
   "metadata": {},
   "outputs": [
    {
     "name": "stdout",
     "output_type": "stream",
     "text": [
      "total apps = 18\n"
     ]
    }
   ],
   "source": [
    "apps = [\n",
    "    \"news\" ,\"whatsapp\", \"hotstar\",\"snapchat\", \"telrgram\" ,\"physics wallah\", \"your hour\", \"google tv\",\"tips\" ,\"lock\",\"calculator\",\"chalo\", \"share me\" ,\"camera\" ,\"phone amazon\",\"adobe scanner\", \"linked in\" , \"classroom\"\n",
    "]\n",
    "print(f\"total apps = {len(apps)}\")"
   ]
  },
  {
   "cell_type": "code",
   "execution_count": 12,
   "metadata": {},
   "outputs": [
    {
     "name": "stdout",
     "output_type": "stream",
     "text": [
      "news\n",
      "whatsapp\n",
      "hotstar\n",
      "snapchat\n",
      "telrgram\n",
      "physics wallah\n",
      "your hour\n",
      "google tv\n",
      "tips\n",
      "lock\n",
      "calculator\n",
      "chalo\n",
      "share me\n",
      "camera\n",
      "phone amazon\n",
      "adobe scanner\n",
      "linked in\n",
      "classroom\n"
     ]
    }
   ],
   "source": [
    "for app in apps:\n",
    "    print(app)"
   ]
  },
  {
   "cell_type": "code",
   "execution_count": 11,
   "metadata": {},
   "outputs": [
    {
     "name": "stdout",
     "output_type": "stream",
     "text": [
      "news | 4\n",
      "whatsapp | 8\n",
      "hotstar | 7\n",
      "snapchat | 8\n",
      "telrgram | 8\n",
      "physics wallah | 14\n",
      "your hour | 9\n",
      "google tv | 9\n",
      "tips | 4\n",
      "lock | 4\n",
      "calculator | 10\n",
      "chalo | 5\n",
      "share me | 8\n",
      "camera | 6\n",
      "phone amazon | 12\n",
      "adobe scanner | 13\n",
      "linked in | 9\n",
      "classroom | 9\n"
     ]
    }
   ],
   "source": [
    "for app in apps:\n",
    "    print (f\"{app} | {len(app)}\")"
   ]
  },
  {
   "cell_type": "code",
   "execution_count": 13,
   "metadata": {},
   "outputs": [
    {
     "name": "stdout",
     "output_type": "stream",
     "text": [
      "news\n",
      "snapchat\n",
      "phone amazon\n",
      "adobe scanner\n",
      "linked in\n"
     ]
    }
   ],
   "source": [
    "for app in apps:\n",
    "    if \"n\" in app:\n",
    "        print(app)"
   ]
  },
  {
   "cell_type": "code",
   "execution_count": 14,
   "metadata": {},
   "outputs": [
    {
     "name": "stdout",
     "output_type": "stream",
     "text": [
      "adobe scanner\n"
     ]
    }
   ],
   "source": [
    "for app in apps:\n",
    "    if app. startswith(\"a\"):\n",
    "        print(app)"
   ]
  },
  {
   "cell_type": "code",
   "execution_count": 15,
   "metadata": {},
   "outputs": [
    {
     "name": "stdout",
     "output_type": "stream",
     "text": [
      "phone amazon\n",
      "linked in\n"
     ]
    }
   ],
   "source": [
    "for app in apps :\n",
    "    if app. endswith(\"n\"):\n",
    "        print(app)"
   ]
  },
  {
   "cell_type": "code",
   "execution_count": 16,
   "metadata": {},
   "outputs": [
    {
     "name": "stdout",
     "output_type": "stream",
     "text": [
      "12\n",
      "65\n",
      "89\n",
      "65\n"
     ]
    }
   ],
   "source": [
    "data =[12,0,65,89,0,65]\n",
    "for i in data:\n",
    "    if i ==0:\n",
    "        continue\n",
    "    print(i)"
   ]
  },
  {
   "cell_type": "code",
   "execution_count": 17,
   "metadata": {},
   "outputs": [
    {
     "name": "stdout",
     "output_type": "stream",
     "text": [
      "12\n",
      "65\n",
      "89\n"
     ]
    }
   ],
   "source": [
    "data=[12,65,89,0,56]\n",
    "for i in data:\n",
    "    if i==0:\n",
    "        break\n",
    "    print(i)"
   ]
  },
  {
   "cell_type": "code",
   "execution_count": 18,
   "metadata": {},
   "outputs": [
    {
     "name": "stdout",
     "output_type": "stream",
     "text": [
      "news\n",
      "whatsapp\n",
      "hotstar\n",
      "snapchat\n",
      "telrgram\n",
      "physics wallah\n",
      "your hour\n",
      "google tv\n",
      "tips\n",
      "lock\n",
      "calculator\n",
      "chalo\n",
      "share me\n",
      "camera\n",
      "phone amazon\n",
      "adobe scanner\n",
      "linked in\n",
      "classroom\n"
     ]
    }
   ],
   "source": [
    "for app in apps:\n",
    "    print(app)"
   ]
  },
  {
   "cell_type": "code",
   "execution_count": 19,
   "metadata": {},
   "outputs": [
    {
     "name": "stdout",
     "output_type": "stream",
     "text": [
      "(0, 'news')\n",
      "(1, 'whatsapp')\n",
      "(2, 'hotstar')\n",
      "(3, 'snapchat')\n",
      "(4, 'telrgram')\n",
      "(5, 'physics wallah')\n",
      "(6, 'your hour')\n",
      "(7, 'google tv')\n",
      "(8, 'tips')\n",
      "(9, 'lock')\n",
      "(10, 'calculator')\n",
      "(11, 'chalo')\n",
      "(12, 'share me')\n",
      "(13, 'camera')\n",
      "(14, 'phone amazon')\n",
      "(15, 'adobe scanner')\n",
      "(16, 'linked in')\n",
      "(17, 'classroom')\n"
     ]
    }
   ],
   "source": [
    "for app in enumerate (apps):\n",
    "    print(app)"
   ]
  },
  {
   "cell_type": "code",
   "execution_count": 21,
   "metadata": {},
   "outputs": [
    {
     "name": "stdout",
     "output_type": "stream",
     "text": [
      "0 news\n",
      "1 whatsapp\n",
      "2 hotstar\n",
      "3 snapchat\n",
      "4 telrgram\n",
      "5 physics wallah\n",
      "6 your hour\n",
      "7 google tv\n",
      "8 tips\n",
      "9 lock\n",
      "10 calculator\n"
     ]
    }
   ],
   "source": [
    "for i, app in enumerate (apps):\n",
    "    if i>10:\n",
    "        break\n",
    "    print (i,app)"
   ]
  },
  {
   "cell_type": "code",
   "execution_count": null,
   "metadata": {},
   "outputs": [],
   "source": []
  }
 ],
 "metadata": {
  "kernelspec": {
   "display_name": "base",
   "language": "python",
   "name": "python3"
  },
  "language_info": {
   "codemirror_mode": {
    "name": "ipython",
    "version": 3
   },
   "file_extension": ".py",
   "mimetype": "text/x-python",
   "name": "python",
   "nbconvert_exporter": "python",
   "pygments_lexer": "ipython3",
   "version": "3.10.8"
  },
  "orig_nbformat": 4,
  "vscode": {
   "interpreter": {
    "hash": "d5cfac359cc12540217ac89587f0042514f86b7743a1edbd587af1e6b86b6ec1"
   }
  }
 },
 "nbformat": 4,
 "nbformat_minor": 2
}
