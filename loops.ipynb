{
 "cells": [
  {
   "cell_type": "code",
   "execution_count": 2,
   "metadata": {},
   "outputs": [
    {
     "name": "stdout",
     "output_type": "stream",
     "text": [
      "12 56 23 56 78 21 "
     ]
    }
   ],
   "source": [
    "x = [12,56,23,56,78,21]\n",
    "for item in x :\n",
    "    print (item, end=\" \")"
   ]
  },
  {
   "cell_type": "code",
   "execution_count": 3,
   "metadata": {},
   "outputs": [
    {
     "name": "stdout",
     "output_type": "stream",
     "text": [
      "total apps = 18\n"
     ]
    }
   ],
   "source": [
    "apps = [\n",
    "    \"news\" ,\"whatsapp\", \"hotstar\",\"snapchat\", \"telrgram\" ,\"physics wallah\", \"your hour\", \"google tv\",\"tips\" ,\"lock\",\"calculator\",\"chalo\", \"share me\" ,\"camera\" ,\"phone amazon\",\"adobe scanner\", \"linked in\" , \"classroom\"\n",
    "]\n",
    "print(f\"total apps = {len(apps)}\")"
   ]
  },
  {
   "cell_type": "code",
   "execution_count": 5,
   "metadata": {},
   "outputs": [
    {
     "name": "stdout",
     "output_type": "stream",
     "text": [
      "news\n",
      "whatsapp\n",
      "hotstar\n",
      "snapchat\n",
      "telrgram\n",
      "physics wallah\n",
      "your hour\n",
      "google tv\n",
      "tips\n",
      "lock\n",
      "calculator\n",
      "chalo\n",
      "share me\n",
      "camera\n",
      "phone amazon\n",
      "adobe scanner\n",
      "linked in\n",
      "classroom\n"
     ]
    }
   ],
   "source": [
    "for app in apps:\n",
    "    print(app)"
   ]
  },
  {
   "cell_type": "code",
   "execution_count": 6,
   "metadata": {},
   "outputs": [
    {
     "name": "stdout",
     "output_type": "stream",
     "text": [
      "news | 4\n",
      "whatsapp | 8\n",
      "hotstar | 7\n",
      "snapchat | 8\n",
      "telrgram | 8\n",
      "physics wallah | 14\n",
      "your hour | 9\n",
      "google tv | 9\n",
      "tips | 4\n",
      "lock | 4\n",
      "calculator | 10\n",
      "chalo | 5\n",
      "share me | 8\n",
      "camera | 6\n",
      "phone amazon | 12\n",
      "adobe scanner | 13\n",
      "linked in | 9\n",
      "classroom | 9\n"
     ]
    }
   ],
   "source": [
    "for app in apps:\n",
    "    print (f\"{app} | {len(app)}\")"
   ]
  },
  {
   "cell_type": "code",
   "execution_count": 7,
   "metadata": {},
   "outputs": [
    {
     "name": "stdout",
     "output_type": "stream",
     "text": [
      "news\n",
      "snapchat\n",
      "phone amazon\n",
      "adobe scanner\n",
      "linked in\n"
     ]
    }
   ],
   "source": [
    "for app in apps:\n",
    "    if \"n\" in app:\n",
    "        print(app)"
   ]
  },
  {
   "cell_type": "code",
   "execution_count": 8,
   "metadata": {},
   "outputs": [
    {
     "name": "stdout",
     "output_type": "stream",
     "text": [
      "adobe scanner\n"
     ]
    }
   ],
   "source": [
    "for app in apps:\n",
    "    if app. startswith(\"a\"):\n",
    "        print(app)"
   ]
  },
  {
   "cell_type": "code",
   "execution_count": 9,
   "metadata": {},
   "outputs": [
    {
     "name": "stdout",
     "output_type": "stream",
     "text": [
      "phone amazon\n",
      "linked in\n"
     ]
    }
   ],
   "source": [
    "for app in apps :\n",
    "    if app. endswith(\"n\"):\n",
    "        print(app)"
   ]
  },
  {
   "cell_type": "code",
   "execution_count": 10,
   "metadata": {},
   "outputs": [
    {
     "name": "stdout",
     "output_type": "stream",
     "text": [
      "12\n",
      "65\n",
      "89\n",
      "65\n"
     ]
    }
   ],
   "source": [
    "data =[12,0,65,89,0,65]\n",
    "for i in data:\n",
    "    if i ==0:\n",
    "        continue\n",
    "    print(i)"
   ]
  },
  {
   "cell_type": "code",
   "execution_count": 11,
   "metadata": {},
   "outputs": [
    {
     "name": "stdout",
     "output_type": "stream",
     "text": [
      "12\n",
      "65\n",
      "89\n"
     ]
    }
   ],
   "source": [
    "data=[12,65,89,0,56]\n",
    "for i in data:\n",
    "    if i==0:\n",
    "        break\n",
    "    print(i)"
   ]
  },
  {
   "cell_type": "code",
   "execution_count": 12,
   "metadata": {},
   "outputs": [
    {
     "name": "stdout",
     "output_type": "stream",
     "text": [
      "news\n",
      "whatsapp\n",
      "hotstar\n",
      "snapchat\n",
      "telrgram\n",
      "physics wallah\n",
      "your hour\n",
      "google tv\n",
      "tips\n",
      "lock\n",
      "calculator\n",
      "chalo\n",
      "share me\n",
      "camera\n",
      "phone amazon\n",
      "adobe scanner\n",
      "linked in\n",
      "classroom\n"
     ]
    }
   ],
   "source": [
    "for app in apps:\n",
    "    print(app)"
   ]
  },
  {
   "cell_type": "code",
   "execution_count": 19,
   "metadata": {},
   "outputs": [
    {
     "name": "stdout",
     "output_type": "stream",
     "text": [
      "(0, 'news')\n",
      "(1, 'whatsapp')\n",
      "(2, 'hotstar')\n",
      "(3, 'snapchat')\n",
      "(4, 'telrgram')\n",
      "(5, 'physics wallah')\n",
      "(6, 'your hour')\n",
      "(7, 'google tv')\n",
      "(8, 'tips')\n",
      "(9, 'lock')\n",
      "(10, 'calculator')\n",
      "(11, 'chalo')\n",
      "(12, 'share me')\n",
      "(13, 'camera')\n",
      "(14, 'phone amazon')\n",
      "(15, 'adobe scanner')\n",
      "(16, 'linked in')\n",
      "(17, 'classroom')\n"
     ]
    }
   ],
   "source": [
    "for app in enumerate (apps):\n",
    "    print(app)"
   ]
  },
  {
   "cell_type": "code",
   "execution_count": 21,
   "metadata": {},
   "outputs": [
    {
     "name": "stdout",
     "output_type": "stream",
     "text": [
      "0 news\n",
      "1 whatsapp\n",
      "2 hotstar\n",
      "3 snapchat\n",
      "4 telrgram\n",
      "5 physics wallah\n",
      "6 your hour\n",
      "7 google tv\n",
      "8 tips\n",
      "9 lock\n",
      "10 calculator\n"
     ]
    }
   ],
   "source": [
    "for i, app in enumerate (apps):\n",
    "    if i>10:\n",
    "        break\n",
    "    print (i,app)"
   ]
  },
  {
   "cell_type": "code",
   "execution_count": 1,
   "metadata": {},
   "outputs": [
    {
     "name": "stdout",
     "output_type": "stream",
     "text": [
      "{num}non prime\n"
     ]
    }
   ],
   "source": [
    "#program for prime number using for else \n",
    "num = int(input(\"Enter a number\"))\n",
    "for i in range (2,num):\n",
    "    if num%1==0:\n",
    "        print (\"{num}non prime\")\n",
    "        break\n",
    "else:\n",
    "    print(f\"{num} prime \")    \n"
   ]
  },
  {
   "cell_type": "code",
   "execution_count": 4,
   "metadata": {},
   "outputs": [
    {
     "name": "stdout",
     "output_type": "stream",
     "text": [
      "0 5 10 15 20 25 30 35 40 45 50 55 60 65 70 75 80 85 90 95 "
     ]
    }
   ],
   "source": [
    "for i in range(0,100,5):\n",
    "    print (i, end=\" \")"
   ]
  },
  {
   "cell_type": "code",
   "execution_count": 6,
   "metadata": {},
   "outputs": [
    {
     "name": "stdout",
     "output_type": "stream",
     "text": [
      "0\n",
      "1\n",
      "2\n",
      "3\n",
      "4\n",
      "5\n",
      "6\n",
      "7\n",
      "8\n",
      "9\n",
      "10\n",
      "11\n",
      "12\n",
      "13\n",
      "14\n"
     ]
    }
   ],
   "source": [
    "for i in range (0,15):\n",
    "    print(i)"
   ]
  },
  {
   "cell_type": "code",
   "execution_count": 15,
   "metadata": {},
   "outputs": [
    {
     "name": "stdout",
     "output_type": "stream",
     "text": [
      "pen              10.0    20\n",
      "pencil            2.0    50\n",
      "book            199.0    10\n",
      "stickers          5.0     5\n"
     ]
    }
   ],
   "source": [
    "items =[\"pen\",\"pencil\",\"book\",\"stickers\"]\n",
    "prices= [10.00,2.00,199.00,5.00]\n",
    "quantity=[20,50,10,5] \n",
    "for i,p,q in zip(items, prices, quantity):\n",
    "    print(f\"{i:10} {p:10} {q:5}\")\n"
   ]
  },
  {
   "cell_type": "code",
   "execution_count": null,
   "metadata": {},
   "outputs": [],
   "source": [
    "n=12345\n",
    "print(n % 10)#unit place value \n",
    "print(n// 10)#remaining digits"
   ]
  },
  {
   "cell_type": "code",
   "execution_count": 16,
   "metadata": {},
   "outputs": [
    {
     "name": "stdout",
     "output_type": "stream",
     "text": [
      "53\n"
     ]
    }
   ],
   "source": [
    "n=int(input(\"Enter a number\"))\n",
    "total=0\n",
    "while n >0:\n",
    "    total +=n %10 #add remainder to toatal\n",
    "    n=n // 10 # make the quotient as number \n",
    "print(total)    "
   ]
  },
  {
   "cell_type": "code",
   "execution_count": 18,
   "metadata": {},
   "outputs": [
    {
     "name": "stdout",
     "output_type": "stream",
     "text": [
      "1234 5\n",
      "123 9\n",
      "12 12\n",
      "1 14\n",
      "0 15\n"
     ]
    }
   ],
   "source": [
    "n=int(input(\"Enter a number\"))\n",
    "total=0\n",
    "while n >0:\n",
    "    total +=n %10 #add remainder to toatal\n",
    "    n=n // 10 # make the quotient as number\n",
    "    print(n,total)"
   ]
  },
  {
   "cell_type": "code",
   "execution_count": 19,
   "metadata": {},
   "outputs": [
    {
     "name": "stdout",
     "output_type": "stream",
     "text": [
      "try again\n",
      "try again\n",
      "try again\n"
     ]
    }
   ],
   "source": [
    "#we often use break with while loop\n",
    "retries=0\n",
    "while retries<3:\n",
    "    pin= input(\"Enter pin:\")\n",
    "    if pin==\"1234\":\n",
    "        print(\"welcome master\")\n",
    "        break\n",
    "    else:\n",
    "        print(\"try again\")\n",
    "        retries+=1"
   ]
  },
  {
   "cell_type": "code",
   "execution_count": 20,
   "metadata": {},
   "outputs": [
    {
     "name": "stdout",
     "output_type": "stream",
     "text": [
      "welcome master\n"
     ]
    }
   ],
   "source": [
    "retries=0\n",
    "while retries<3:\n",
    "    pin= input(\"Enter pin:\")\n",
    "    if pin==\"1234\":\n",
    "        print(\"welcome master\")\n",
    "        break\n",
    "    else:\n",
    "        print(\"try again\")\n",
    "        retries+=1"
   ]
  },
  {
   "cell_type": "code",
   "execution_count": 22,
   "metadata": {},
   "outputs": [
    {
     "name": "stdout",
     "output_type": "stream",
     "text": [
      "try again,retries left2\n",
      "try again,retries left1\n",
      "welcome master\n"
     ]
    }
   ],
   "source": [
    "retries=0\n",
    "while retries<3:\n",
    "    pin= input(\"Enter pin:\")\n",
    "    if pin==\"1234\":\n",
    "        print(\"welcome master\")\n",
    "        break\n",
    "    else:\n",
    "        print(f\"try again,retries left{2-retries}\")\n",
    "        retries+=1"
   ]
  },
  {
   "cell_type": "code",
   "execution_count": null,
   "metadata": {},
   "outputs": [],
   "source": []
  }
 ],
 "metadata": {
  "kernelspec": {
   "display_name": "base",
   "language": "python",
   "name": "python3"
  },
  "language_info": {
   "codemirror_mode": {
    "name": "ipython",
    "version": 3
   },
   "file_extension": ".py",
   "mimetype": "text/x-python",
   "name": "python",
   "nbconvert_exporter": "python",
   "pygments_lexer": "ipython3",
   "version": "3.10.8"
  },
  "orig_nbformat": 4,
  "vscode": {
   "interpreter": {
    "hash": "d5cfac359cc12540217ac89587f0042514f86b7743a1edbd587af1e6b86b6ec1"
   }
  }
 },
 "nbformat": 4,
 "nbformat_minor": 2
}
