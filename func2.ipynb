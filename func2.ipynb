{
 "cells": [
  {
   "cell_type": "code",
   "execution_count": 2,
   "metadata": {},
   "outputs": [],
   "source": [
    "def burger(bread,cheese,veg,price):\n",
    "    print(f\"your burger has{bread} bread,{cheese} cheese, is veg{veg} and costRs {price}\")"
   ]
  },
  {
   "cell_type": "code",
   "execution_count": 4,
   "metadata": {},
   "outputs": [
    {
     "ename": "SyntaxError",
     "evalue": "invalid syntax. Perhaps you forgot a comma? (1590131862.py, line 1)",
     "output_type": "error",
     "traceback": [
      "\u001b[1;36m  Cell \u001b[1;32mIn[4], line 1\u001b[1;36m\u001b[0m\n\u001b[1;33m    burger(\"wheat\",\"cheddar\",True 100)\u001b[0m\n\u001b[1;37m                             ^\u001b[0m\n\u001b[1;31mSyntaxError\u001b[0m\u001b[1;31m:\u001b[0m invalid syntax. Perhaps you forgot a comma?\n"
     ]
    }
   ],
   "source": [
    "burger(\"wheat\",\"cheddar\",True 100)"
   ]
  },
  {
   "cell_type": "code",
   "execution_count": 5,
   "metadata": {},
   "outputs": [
    {
     "name": "stdout",
     "output_type": "stream",
     "text": [
      "your burger haswheat bread,parmesan cheese, is vegTrue and costRs 100\n"
     ]
    }
   ],
   "source": [
    "burger(bread=\"wheat\",cheese=\"parmesan\",veg=True,price=100)"
   ]
  },
  {
   "cell_type": "code",
   "execution_count": 7,
   "metadata": {},
   "outputs": [],
   "source": [
    "def total(x,y,z):\n",
    "    return x + y + z* 0.05"
   ]
  },
  {
   "cell_type": "code",
   "execution_count": 8,
   "metadata": {},
   "outputs": [
    {
     "name": "stdout",
     "output_type": "stream",
     "text": [
      "5.2\n",
      "4.15\n"
     ]
    }
   ],
   "source": [
    "ans = total(x =2, y= 3, z= 4)\n",
    "print(ans)\n",
    "ans=total(y=2, z=3,x=2)\n",
    "print(ans)"
   ]
  },
  {
   "cell_type": "code",
   "execution_count": 9,
   "metadata": {},
   "outputs": [],
   "source": [
    "# default parameters\n",
    "def total_v2(x,y,z=10):# default value is always given from left\n",
    "    return x+y+z*0.5"
   ]
  },
  {
   "cell_type": "code",
   "execution_count": 10,
   "metadata": {},
   "outputs": [
    {
     "data": {
      "text/plain": [
       "18.0"
      ]
     },
     "execution_count": 10,
     "metadata": {},
     "output_type": "execute_result"
    }
   ],
   "source": [
    "total_v2(3,10)"
   ]
  },
  {
   "cell_type": "code",
   "execution_count": 11,
   "metadata": {},
   "outputs": [
    {
     "data": {
      "text/plain": [
       "23.0"
      ]
     },
     "execution_count": 11,
     "metadata": {},
     "output_type": "execute_result"
    }
   ],
   "source": [
    "total_v2(3,10,20)"
   ]
  },
  {
   "cell_type": "code",
   "execution_count": 12,
   "metadata": {},
   "outputs": [],
   "source": [
    "def area (l=1,b=1):\n",
    "    return l*b"
   ]
  },
  {
   "cell_type": "code",
   "execution_count": 13,
   "metadata": {},
   "outputs": [
    {
     "name": "stdout",
     "output_type": "stream",
     "text": [
      "1\n",
      "10\n",
      "200\n"
     ]
    }
   ],
   "source": [
    "print(area())\n",
    "print(area(10))\n",
    "print(area(10,20))"
   ]
  },
  {
   "cell_type": "code",
   "execution_count": 18,
   "metadata": {},
   "outputs": [],
   "source": [
    "def greeting(name=\"guest\"):\n",
    "    print(\"👌\" * 5)\n",
    "    print(f\"welcome {name}\")\n",
    "    print(\"👌\"* 5)"
   ]
  },
  {
   "cell_type": "code",
   "execution_count": 20,
   "metadata": {},
   "outputs": [
    {
     "name": "stdout",
     "output_type": "stream",
     "text": [
      "👌👌👌👌👌\n",
      "welcome guest\n",
      "👌👌👌👌👌\n"
     ]
    }
   ],
   "source": [
    "greeting()"
   ]
  },
  {
   "cell_type": "code",
   "execution_count": 21,
   "metadata": {},
   "outputs": [
    {
     "name": "stdout",
     "output_type": "stream",
     "text": [
      "👌👌👌👌👌\n",
      "welcome Alex\n",
      "👌👌👌👌👌\n"
     ]
    }
   ],
   "source": [
    "greeting(\"Alex\")"
   ]
  },
  {
   "cell_type": "code",
   "execution_count": 25,
   "metadata": {},
   "outputs": [],
   "source": [
    "#variable arguement function\n",
    "def average(*numbers):\n",
    "    if len(numbers)> 1: \n",
    "     return sum(numbers)/ len(numbers)"
   ]
  },
  {
   "cell_type": "code",
   "execution_count": 26,
   "metadata": {},
   "outputs": [
    {
     "name": "stdout",
     "output_type": "stream",
     "text": [
      "2.0\n",
      "5.5\n",
      "220.4\n",
      "None\n"
     ]
    }
   ],
   "source": [
    "print (average(1,2,3))\n",
    "print(average(1,2,3,4,5,6,7,8,9,10))\n",
    "print(average(239,123,450,78,88,9,324,6,89,798))\n",
    "print(average())"
   ]
  },
  {
   "cell_type": "code",
   "execution_count": 27,
   "metadata": {},
   "outputs": [],
   "source": [
    "def menu(**product):\n",
    "    for k,v in product.items():\n",
    "        print(f\"🔥 {k:15} | Rs.{v:4} \")"
   ]
  },
  {
   "cell_type": "code",
   "execution_count": 28,
   "metadata": {},
   "outputs": [
    {
     "name": "stdout",
     "output_type": "stream",
     "text": [
      "🔥 chat            | Rs. 100 \n",
      "🔥 idli            | Rs.  60 \n",
      "🔥 dosa            | Rs.  50 \n",
      "🔥 samosa          | Rs.  10 \n",
      "🔥 panipuri        | Rs.  30 \n",
      "🔥 chole_bhatore   | Rs.  20 \n",
      "🔥 dal_makhani     | Rs.  70 \n",
      "🔥 butter_chivken  | Rs. 300 \n"
     ]
    }
   ],
   "source": [
    "#moti lal mahal\n",
    "menu(chat=100, idli=60, dosa=50, samosa=10, panipuri=30, chole_bhatore=20,dal_makhani=70, butter_chivken=300)"
   ]
  },
  {
   "cell_type": "code",
   "execution_count": 30,
   "metadata": {},
   "outputs": [
    {
     "name": "stdout",
     "output_type": "stream",
     "text": [
      "🔥 capiccuno       | Rs.  50 \n",
      "🔥 latte           | Rs.  58 \n",
      "🔥 mocha           | Rs.  40 \n",
      "🔥 espresso        | Rs.  60 \n",
      "🔥 americano       | Rs.  90 \n"
     ]
    }
   ],
   "source": [
    "menu(capiccuno=50,latte=58,mocha=40,espresso=60,americano=90)"
   ]
  },
  {
   "cell_type": "code",
   "execution_count": null,
   "metadata": {},
   "outputs": [],
   "source": []
  }
 ],
 "metadata": {
  "kernelspec": {
   "display_name": "base",
   "language": "python",
   "name": "python3"
  },
  "language_info": {
   "codemirror_mode": {
    "name": "ipython",
    "version": 3
   },
   "file_extension": ".py",
   "mimetype": "text/x-python",
   "name": "python",
   "nbconvert_exporter": "python",
   "pygments_lexer": "ipython3",
   "version": "3.10.8"
  },
  "orig_nbformat": 4,
  "vscode": {
   "interpreter": {
    "hash": "d5cfac359cc12540217ac89587f0042514f86b7743a1edbd587af1e6b86b6ec1"
   }
  }
 },
 "nbformat": 4,
 "nbformat_minor": 2
}
