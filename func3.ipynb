{
 "cells": [
  {
   "cell_type": "code",
   "execution_count": 2,
   "metadata": {},
   "outputs": [],
   "source": [
    "#Lamda expression\n",
    "#map\n",
    "#filter\n",
    "f =lambda x : x + 3"
   ]
  },
  {
   "cell_type": "code",
   "execution_count": 3,
   "metadata": {},
   "outputs": [
    {
     "name": "stdout",
     "output_type": "stream",
     "text": [
      "6 48 23\n"
     ]
    }
   ],
   "source": [
    "print(f(3),f(45),f(20))"
   ]
  },
  {
   "cell_type": "code",
   "execution_count": 4,
   "metadata": {},
   "outputs": [
    {
     "name": "stdout",
     "output_type": "stream",
     "text": [
      "8 17\n"
     ]
    }
   ],
   "source": [
    "g= lambda x,y : x**2 + y+ 3\n",
    "print(g(2,1),g(3,5))"
   ]
  },
  {
   "cell_type": "code",
   "execution_count": 6,
   "metadata": {},
   "outputs": [
    {
     "name": "stdout",
     "output_type": "stream",
     "text": [
      "[15, 40, 55, 93, 40, 29, 84, 71, 118, 451]\n"
     ]
    }
   ],
   "source": [
    "x = [20,45,60,98,45,34,89,76,123,456]\n",
    "#for beginners \n",
    "y =[] # blank list \n",
    "for i in x:\n",
    "    y.append(i-5)\n",
    "print(y)"
   ]
  },
  {
   "cell_type": "code",
   "execution_count": 8,
   "metadata": {},
   "outputs": [
    {
     "data": {
      "text/plain": [
       "[100, 225, 300, 490, 225, 170, 445, 380, 615, 2280]"
      ]
     },
     "execution_count": 8,
     "metadata": {},
     "output_type": "execute_result"
    }
   ],
   "source": [
    "list (map(lambda i: i*5,x))"
   ]
  },
  {
   "cell_type": "code",
   "execution_count": 11,
   "metadata": {},
   "outputs": [
    {
     "data": {
      "text/plain": [
       "[25.942243542145693, 71.84010022264724, 105.152270541344, 88.11923740024082]"
      ]
     },
     "execution_count": 11,
     "metadata": {},
     "output_type": "execute_result"
    }
   ],
   "source": [
    "p= [23,56,89,41]\n",
    "q= [12,45,56,78]\n",
    "h= list(map(lambda a,b: (a**2 + b**2)**.5,p,q))\n",
    "h"
   ]
  },
  {
   "cell_type": "code",
   "execution_count": 20,
   "metadata": {},
   "outputs": [
    {
     "data": {
      "text/plain": [
       "[(9, 16), (16, 25), (25, 36)]"
      ]
     },
     "execution_count": 20,
     "metadata": {},
     "output_type": "execute_result"
    }
   ],
   "source": [
    "# create a list of square from a list of numbers\n",
    "p=[3,4,5,6]\n",
    "q=[4,5,6]\n",
    "h=list(map(lambda a,b: (a**2,b**2,),p,q))\n",
    "h"
   ]
  },
  {
   "cell_type": "code",
   "execution_count": 22,
   "metadata": {},
   "outputs": [
    {
     "name": "stdout",
     "output_type": "stream",
     "text": [
      "[3, 4, 5, 6, 7, 8, 9, 4, 5, 6, 6, 4, 4, 4, 6, 7]\n"
     ]
    }
   ],
   "source": [
    "a = [2,3,4,5,6,7,8,9,4,5,6,6,4,4,4,6,7]\n",
    "b = list(filter(lambda i:i>=3,a))\n",
    "print(b)"
   ]
  },
  {
   "cell_type": "code",
   "execution_count": 1,
   "metadata": {},
   "outputs": [
    {
     "data": {
      "text/plain": [
       "14"
      ]
     },
     "execution_count": 1,
     "metadata": {},
     "output_type": "execute_result"
    }
   ],
   "source": [
    "message = \"this is a message to all the autobots \"\n",
    "message.find(\"age\")"
   ]
  },
  {
   "cell_type": "code",
   "execution_count": 2,
   "metadata": {},
   "outputs": [
    {
     "data": {
      "text/plain": [
       "5"
      ]
     },
     "execution_count": 2,
     "metadata": {},
     "output_type": "execute_result"
    }
   ],
   "source": [
    "message = \"this is a message to all the autobots \"\n",
    "message.find(\"is\",3,10)"
   ]
  },
  {
   "cell_type": "code",
   "execution_count": 4,
   "metadata": {},
   "outputs": [],
   "source": [
    "def find_all(msg,query):\n",
    "    pos = 0\n",
    "    indx = []\n",
    "    while True:\n",
    "        pos = msg.find(query,pos)\n",
    "        if pos>=0:\n",
    "            indx. append(pos)\n",
    "            pos+= 1\n",
    "        else :\n",
    "            break\n",
    "    return indx        "
   ]
  },
  {
   "cell_type": "code",
   "execution_count": 5,
   "metadata": {},
   "outputs": [
    {
     "data": {
      "text/plain": [
       "[]"
      ]
     },
     "execution_count": 5,
     "metadata": {},
     "output_type": "execute_result"
    }
   ],
   "source": [
    "find_all(message,\"it\")"
   ]
  },
  {
   "cell_type": "code",
   "execution_count": 6,
   "metadata": {},
   "outputs": [
    {
     "name": "stdout",
     "output_type": "stream",
     "text": [
      "[273493549659871738]\n"
     ]
    }
   ],
   "source": [
    "x = list(map(int,input().split()))\n",
    "print(x)"
   ]
  },
  {
   "cell_type": "code",
   "execution_count": null,
   "metadata": {},
   "outputs": [],
   "source": []
  }
 ],
 "metadata": {
  "kernelspec": {
   "display_name": "base",
   "language": "python",
   "name": "python3"
  },
  "language_info": {
   "codemirror_mode": {
    "name": "ipython",
    "version": 3
   },
   "file_extension": ".py",
   "mimetype": "text/x-python",
   "name": "python",
   "nbconvert_exporter": "python",
   "pygments_lexer": "ipython3",
   "version": "3.10.8"
  },
  "orig_nbformat": 4,
  "vscode": {
   "interpreter": {
    "hash": "d5cfac359cc12540217ac89587f0042514f86b7743a1edbd587af1e6b86b6ec1"
   }
  }
 },
 "nbformat": 4,
 "nbformat_minor": 2
}
