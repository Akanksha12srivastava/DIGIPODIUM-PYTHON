{
 "cells": [
  {
   "cell_type": "code",
   "execution_count": 1,
   "metadata": {},
   "outputs": [],
   "source": [
    "x =[] # blank list\n",
    "x2 = [1,2,3] # list with 3 elements\n",
    "x3 = [12,45,\"Apple\",\"Orange\"] # list with 4 elements\n",
    "x4 = [\"Aman\",\"Vijay\",\"Ritik\"]"
   ]
  },
  {
   "cell_type": "code",
   "execution_count": 2,
   "metadata": {},
   "outputs": [
    {
     "name": "stdout",
     "output_type": "stream",
     "text": [
      "[]\n",
      "[1, 2, 3]\n",
      "[12, 45, 'Apple', 'Orange']\n",
      "['Aman', 'Vijay', 'Ritik']\n"
     ]
    }
   ],
   "source": [
    "print(x)\n",
    "print(x2)\n",
    "print(x3)\n",
    "print(x4)"
   ]
  },
  {
   "cell_type": "code",
   "execution_count": 3,
   "metadata": {},
   "outputs": [
    {
     "data": {
      "text/plain": [
       "[1, 1, 1, 1, 1]"
      ]
     },
     "execution_count": 3,
     "metadata": {},
     "output_type": "execute_result"
    }
   ],
   "source": [
    "y = [1]\n",
    "y * 5"
   ]
  },
  {
   "cell_type": "code",
   "execution_count": 4,
   "metadata": {},
   "outputs": [
    {
     "data": {
      "text/plain": [
       "[1, 2, 3, 1, 2, 3, 1, 2, 3, 1, 2, 3, 1, 2, 3]"
      ]
     },
     "execution_count": 4,
     "metadata": {},
     "output_type": "execute_result"
    }
   ],
   "source": [
    "x2 * 5"
   ]
  },
  {
   "cell_type": "code",
   "execution_count": 5,
   "metadata": {},
   "outputs": [
    {
     "name": "stdout",
     "output_type": "stream",
     "text": [
      "[1, 2, 3, 1, 2, 3, 1, 2, 3, 1, 2, 3]\n"
     ]
    }
   ],
   "source": [
    "x5 = x2*4\n",
    "print(x5)"
   ]
  },
  {
   "cell_type": "code",
   "execution_count": 6,
   "metadata": {},
   "outputs": [
    {
     "name": "stdout",
     "output_type": "stream",
     "text": [
      "['Aman', 'Vijay', 'Ritik', 1, 2, 3, 1, 2, 3, 1, 2, 3, 1, 2, 3]\n"
     ]
    }
   ],
   "source": [
    "x6 = x4 +x5\n",
    "print(x6)"
   ]
  },
  {
   "cell_type": "code",
   "execution_count": 10,
   "metadata": {},
   "outputs": [],
   "source": [
    "worst_movies =[\"Raaz\",\"Talaash\",\"humraaz\",\"chapaak\",\"diljale\"]\n",
    "good_movies = [\"All of us dead\",\"Still\",\"3 Idiots\",\"Escape room\",\"Conjuring\"]"
   ]
  },
  {
   "cell_type": "code",
   "execution_count": 22,
   "metadata": {},
   "outputs": [
    {
     "name": "stdout",
     "output_type": "stream",
     "text": [
      "['Raaz', 'Talaash', 'humraaz', 'chapaak', 'diljale', 'All of us dead', 'Still', '3 Idiots', 'Escape room', 'Conjuring']\n"
     ]
    }
   ],
   "source": [
    "all_movies = worst_movies + good_movies\n",
    "print(all_movies) "
   ]
  },
  {
   "cell_type": "code",
   "execution_count": 23,
   "metadata": {},
   "outputs": [],
   "source": [
    "all_movies.append(\"Troll 2\")\n",
    "all_movies.append(\"Black widow\")"
   ]
  },
  {
   "cell_type": "code",
   "execution_count": 40,
   "metadata": {},
   "outputs": [
    {
     "name": "stdout",
     "output_type": "stream",
     "text": [
      "['Fast and Furious: Tokyo drift', '2 Fast & furious', 'Fast & furious', 'Black widow', 'Troll 2', 'Conjuring', 'Escape room', '3 Idiots', 'Still', 'All of us dead', 'diljale', 'chapaak', 'humraaz', 'Bahubali 2:The Conclusion', 'Talaash', 'Raaz']\n"
     ]
    }
   ],
   "source": [
    "print(all_movies)"
   ]
  },
  {
   "cell_type": "code",
   "execution_count": 25,
   "metadata": {},
   "outputs": [
    {
     "name": "stdout",
     "output_type": "stream",
     "text": [
      "['Raaz', 'Talaash', 'The dark knight', 'humraaz', 'chapaak', 'diljale', 'All of us dead', 'Still', '3 Idiots', 'Escape room', 'Conjuring', 'Troll 2', 'Black widow']\n"
     ]
    }
   ],
   "source": [
    "all_movies.insert(2,\"The dark knight\")\n",
    "print(all_movies)"
   ]
  },
  {
   "cell_type": "code",
   "execution_count": 26,
   "metadata": {},
   "outputs": [
    {
     "name": "stdout",
     "output_type": "stream",
     "text": [
      "['Raaz', 'Talaash', 'The dark knight', 'humraaz', 'chapaak', 'diljale', 'All of us dead', 'Still', '3 Idiots', 'Escape room', 'Conjuring', 'Troll 2', 'Black widow', 'Fast & furious', '2 Fast & furious', 'Fast and Furious: Tokyo drift']\n"
     ]
    }
   ],
   "source": [
    "sequels = [\"Fast & furious\",\"2 Fast & furious\",\"Fast and Furious: Tokyo drift\"]\n",
    "all_movies.extend(sequels)\n",
    "print(all_movies)"
   ]
  },
  {
   "cell_type": "code",
   "execution_count": 27,
   "metadata": {},
   "outputs": [
    {
     "data": {
      "text/plain": [
       "16"
      ]
     },
     "execution_count": 27,
     "metadata": {},
     "output_type": "execute_result"
    }
   ],
   "source": [
    "len(all_movies)"
   ]
  },
  {
   "cell_type": "code",
   "execution_count": 28,
   "metadata": {},
   "outputs": [
    {
     "data": {
      "text/plain": [
       "['Raaz', 'Talaash', 'The dark knight', 'humraaz', 'chapaak']"
      ]
     },
     "execution_count": 28,
     "metadata": {},
     "output_type": "execute_result"
    }
   ],
   "source": [
    "all_movies[:5]"
   ]
  },
  {
   "cell_type": "code",
   "execution_count": 29,
   "metadata": {},
   "outputs": [
    {
     "data": {
      "text/plain": [
       "['Troll 2',\n",
       " 'Black widow',\n",
       " 'Fast & furious',\n",
       " '2 Fast & furious',\n",
       " 'Fast and Furious: Tokyo drift']"
      ]
     },
     "execution_count": 29,
     "metadata": {},
     "output_type": "execute_result"
    }
   ],
   "source": [
    "all_movies[-5: ]"
   ]
  },
  {
   "cell_type": "code",
   "execution_count": 30,
   "metadata": {},
   "outputs": [],
   "source": [
    "all_movies[2]=\"Bahubali 2:The Conclusion\""
   ]
  },
  {
   "cell_type": "code",
   "execution_count": 37,
   "metadata": {},
   "outputs": [
    {
     "name": "stdout",
     "output_type": "stream",
     "text": [
      "['Fast and Furious: Tokyo drift', '2 Fast & furious', 'Fast & furious', 'Black widow', 'Troll 2', 'Conjuring', 'Escape room', '3 Idiots', 'Still', 'All of us dead', 'diljale', 'chapaak', 'humraaz', 'Bahubali 2:The Conclusion', 'Talaash', 'Raaz']\n"
     ]
    }
   ],
   "source": [
    "all_movies.reverse()\n",
    "print(all_movies)"
   ]
  },
  {
   "cell_type": "code",
   "execution_count": 41,
   "metadata": {},
   "outputs": [
    {
     "data": {
      "text/plain": [
       "['Raaz',\n",
       " 'Talaash',\n",
       " 'Bahubali 2:The Conclusion',\n",
       " 'humraaz',\n",
       " 'chapaak',\n",
       " 'diljale',\n",
       " 'All of us dead',\n",
       " 'Still',\n",
       " '3 Idiots',\n",
       " 'Escape room',\n",
       " 'Conjuring',\n",
       " 'Troll 2',\n",
       " 'Black widow',\n",
       " 'Fast & furious',\n",
       " '2 Fast & furious',\n",
       " 'Fast and Furious: Tokyo drift']"
      ]
     },
     "execution_count": 41,
     "metadata": {},
     "output_type": "execute_result"
    }
   ],
   "source": [
    "all_movies[::-1]"
   ]
  },
  {
   "cell_type": "code",
   "execution_count": 42,
   "metadata": {},
   "outputs": [
    {
     "name": "stdout",
     "output_type": "stream",
     "text": [
      "['humraaz', 'diljale', 'chapaak', 'Troll 2', 'Talaash', 'Still', 'Raaz', 'Fast and Furious: Tokyo drift', 'Fast & furious', 'Escape room', 'Conjuring', 'Black widow', 'Bahubali 2:The Conclusion', 'All of us dead', '3 Idiots', '2 Fast & furious']\n"
     ]
    }
   ],
   "source": [
    "all_movies.sort(reverse=True)\n",
    "print(all_movies)"
   ]
  },
  {
   "cell_type": "code",
   "execution_count": 43,
   "metadata": {},
   "outputs": [],
   "source": [
    "import random as rnd"
   ]
  },
  {
   "cell_type": "code",
   "execution_count": 45,
   "metadata": {},
   "outputs": [
    {
     "name": "stdout",
     "output_type": "stream",
     "text": [
      "['Talaash', 'Escape room', 'Troll 2', '3 Idiots', 'diljale', 'Fast and Furious: Tokyo drift', 'Raaz', 'humraaz', 'Bahubali 2:The Conclusion', 'Fast & furious', 'Still', '2 Fast & furious', 'chapaak', 'All of us dead', 'Black widow', 'Conjuring']\n"
     ]
    }
   ],
   "source": [
    "rnd.shuffle(all_movies)\n",
    "print(all_movies)"
   ]
  },
  {
   "cell_type": "code",
   "execution_count": 47,
   "metadata": {},
   "outputs": [
    {
     "data": {
      "text/plain": [
       "'Talaash'"
      ]
     },
     "execution_count": 47,
     "metadata": {},
     "output_type": "execute_result"
    }
   ],
   "source": [
    "rnd.choice(all_movies) # for any random choice "
   ]
  },
  {
   "cell_type": "code",
   "execution_count": 49,
   "metadata": {},
   "outputs": [
    {
     "data": {
      "text/plain": [
       "['Escape room', 'Talaash', 'Fast & furious', 'diljale', 'Still']"
      ]
     },
     "execution_count": 49,
     "metadata": {},
     "output_type": "execute_result"
    }
   ],
   "source": [
    "rnd.choices(all_movies, k= 5)"
   ]
  },
  {
   "cell_type": "code",
   "execution_count": 54,
   "metadata": {},
   "outputs": [
    {
     "data": {
      "text/plain": [
       "3"
      ]
     },
     "execution_count": 54,
     "metadata": {},
     "output_type": "execute_result"
    }
   ],
   "source": [
    "all_movies.index(\"3 Idiots\")"
   ]
  },
  {
   "cell_type": "code",
   "execution_count": 55,
   "metadata": {},
   "outputs": [
    {
     "data": {
      "text/plain": [
       "'Conjuring'"
      ]
     },
     "execution_count": 55,
     "metadata": {},
     "output_type": "execute_result"
    }
   ],
   "source": [
    "all_movies.pop()"
   ]
  },
  {
   "cell_type": "code",
   "execution_count": 56,
   "metadata": {},
   "outputs": [
    {
     "data": {
      "text/plain": [
       "'3 Idiots'"
      ]
     },
     "execution_count": 56,
     "metadata": {},
     "output_type": "execute_result"
    }
   ],
   "source": [
    "all_movies.pop(3)"
   ]
  },
  {
   "cell_type": "code",
   "execution_count": 57,
   "metadata": {},
   "outputs": [
    {
     "name": "stdout",
     "output_type": "stream",
     "text": [
      "['Talaash', 'Escape room', 'Troll 2', 'diljale', 'Fast and Furious: Tokyo drift', 'Raaz', 'humraaz', 'Bahubali 2:The Conclusion', 'Fast & furious', 'Still', '2 Fast & furious', 'chapaak', 'All of us dead', 'Black widow']\n"
     ]
    }
   ],
   "source": [
    "print(all_movies)"
   ]
  },
  {
   "cell_type": "code",
   "execution_count": 58,
   "metadata": {},
   "outputs": [
    {
     "name": "stdout",
     "output_type": "stream",
     "text": [
      "[100, 2, 200, 4, 5]\n",
      "[100, 2, 200, 4, 5]\n",
      "True\n"
     ]
    }
   ],
   "source": [
    "# is operator can tell two memmories are at same location orr not\n",
    "x = [1,2,3,4,5]\n",
    "y = x\n",
    "y[0] =100\n",
    "x[2]=200\n",
    "print(x)\n",
    "print(y)\n",
    "print(x is y)"
   ]
  },
  {
   "cell_type": "code",
   "execution_count": 59,
   "metadata": {},
   "outputs": [
    {
     "name": "stdout",
     "output_type": "stream",
     "text": [
      "[100, 2, 200, 4]\n",
      "[100, 2, 200, 4]\n",
      "[100, 2, 200, 4, 5, 10]\n",
      "False\n"
     ]
    }
   ],
   "source": [
    "z = x.copy()\n",
    "z.append(10)\n",
    "x.remove(5)\n",
    "print(x)\n",
    "print(y)\n",
    "print(z)\n",
    "print(x is z)"
   ]
  },
  {
   "cell_type": "code",
   "execution_count": null,
   "metadata": {},
   "outputs": [],
   "source": []
  }
 ],
 "metadata": {
  "kernelspec": {
   "display_name": "base",
   "language": "python",
   "name": "python3"
  },
  "language_info": {
   "codemirror_mode": {
    "name": "ipython",
    "version": 3
   },
   "file_extension": ".py",
   "mimetype": "text/x-python",
   "name": "python",
   "nbconvert_exporter": "python",
   "pygments_lexer": "ipython3",
   "version": "3.10.8"
  },
  "orig_nbformat": 4,
  "vscode": {
   "interpreter": {
    "hash": "d5cfac359cc12540217ac89587f0042514f86b7743a1edbd587af1e6b86b6ec1"
   }
  }
 },
 "nbformat": 4,
 "nbformat_minor": 2
}
