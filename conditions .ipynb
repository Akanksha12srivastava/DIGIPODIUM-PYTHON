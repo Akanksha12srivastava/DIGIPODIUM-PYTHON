{
 "cells": [
  {
   "cell_type": "code",
   "execution_count": 2,
   "metadata": {},
   "outputs": [
    {
     "name": "stdout",
     "output_type": "stream",
     "text": [
      "you have right to vote\n"
     ]
    }
   ],
   "source": [
    "age = int(input(\"Enter your age:\"))\n",
    "if age>=18:\n",
    "    print (\"you have right to vote\")\n",
    "else:\n",
    "    print (f\"please wait {18 - age }years\")"
   ]
  },
  {
   "cell_type": "code",
   "execution_count": 3,
   "metadata": {},
   "outputs": [
    {
     "name": "stdout",
     "output_type": "stream",
     "text": [
      "we have100kg mangoin store\n",
      "total costing about Rs. 2000\n"
     ]
    }
   ],
   "source": [
    "x=100\n",
    "y=\"mango\"\n",
    "prc= 20\n",
    "print(f\"we have{x}kg {y}in store\")\n",
    "print(f\"total costing about Rs. {x* prc}\")"
   ]
  },
  {
   "cell_type": "code",
   "execution_count": 5,
   "metadata": {},
   "outputs": [
    {
     "name": "stdout",
     "output_type": "stream",
     "text": [
      "4 is natural number\n",
      "x=4 is even number\n"
     ]
    }
   ],
   "source": [
    "x = int(input(\" Enter a number:\"))\n",
    "if x> 0:\n",
    "     print (f\"{x} is natural number\")\n",
    "if x% 2==0:\n",
    "     print(f\"{x=} is even number\") \n",
    "if x> 50:\n",
    "    print(f\"{x=} is greater than 50\")        "
   ]
  },
  {
   "cell_type": "code",
   "execution_count": 7,
   "metadata": {},
   "outputs": [
    {
     "name": "stdout",
     "output_type": "stream",
     "text": [
      "toatl salary is 45000.0\n"
     ]
    }
   ],
   "source": [
    "post = input (\"enter your designation:\")\n",
    "if post == \"manager\":\n",
    "    bs=50000\n",
    "    bns=bs*.1\n",
    "    hra=bs *.2\n",
    "if post==\"developer\":\n",
    "    bs =40000\n",
    "    bns=bs*.2\n",
    "    hra =bs*.2\n",
    "if post==\"tester\":\n",
    "    bs=30000\n",
    "    bns=bs*.3\n",
    "    hra=bs *.2\n",
    "    print(f\"toatl salary is {bs+bns+hra}\")\n",
    "      \n"
   ]
  },
  {
   "cell_type": "code",
   "execution_count": null,
   "metadata": {},
   "outputs": [],
   "source": []
  }
 ],
 "metadata": {
  "kernelspec": {
   "display_name": "base",
   "language": "python",
   "name": "python3"
  },
  "language_info": {
   "codemirror_mode": {
    "name": "ipython",
    "version": 3
   },
   "file_extension": ".py",
   "mimetype": "text/x-python",
   "name": "python",
   "nbconvert_exporter": "python",
   "pygments_lexer": "ipython3",
   "version": "3.10.8"
  },
  "orig_nbformat": 4,
  "vscode": {
   "interpreter": {
    "hash": "d5cfac359cc12540217ac89587f0042514f86b7743a1edbd587af1e6b86b6ec1"
   }
  }
 },
 "nbformat": 4,
 "nbformat_minor": 2
}
