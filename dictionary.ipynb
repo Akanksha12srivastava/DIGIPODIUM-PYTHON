{
 "cells": [
  {
   "cell_type": "code",
   "execution_count": 1,
   "metadata": {},
   "outputs": [
    {
     "data": {
      "text/plain": [
       "['Bruce', 'Wayne', 'Business', 'Tycoon', 'Gotham', 'Batman']"
      ]
     },
     "execution_count": 1,
     "metadata": {},
     "output_type": "execute_result"
    }
   ],
   "source": [
    "[\"Bruce\",\"Wayne\",\"Business\",\"Tycoon\",\"Gotham\",\"Batman\"]"
   ]
  },
  {
   "cell_type": "code",
   "execution_count": 11,
   "metadata": {},
   "outputs": [],
   "source": [
    "book = {\n",
    "    \"title\":\"The Lost Metal\",\n",
    "    \"author\":\"Brandon Sanderson\",\n",
    "    \"pages\":899,\n",
    "    \"publisher\":\"Tor Books\",\n",
    "    \"type\": \"Hardcover\",\n",
    "    \"genre\":\"Fantasy\",\n",
    "}"
   ]
  },
  {
   "cell_type": "code",
   "execution_count": 7,
   "metadata": {},
   "outputs": [
    {
     "data": {
      "text/plain": [
       "'The Lost Metal'"
      ]
     },
     "execution_count": 7,
     "metadata": {},
     "output_type": "execute_result"
    }
   ],
   "source": [
    "book[\"title\"]"
   ]
  },
  {
   "cell_type": "code",
   "execution_count": 8,
   "metadata": {},
   "outputs": [
    {
     "data": {
      "text/plain": [
       "'Tor Books'"
      ]
     },
     "execution_count": 8,
     "metadata": {},
     "output_type": "execute_result"
    }
   ],
   "source": [
    "key = \"publisher\"\n",
    "book[key]"
   ]
  },
  {
   "cell_type": "code",
   "execution_count": 13,
   "metadata": {},
   "outputs": [
    {
     "data": {
      "text/plain": [
       "{'title': 'The Lost Metal',\n",
       " 'author': 'Brandon Sanderson',\n",
       " 'pages': 899,\n",
       " 'publisher': 'Tor Books',\n",
       " 'type': 'Hardcover',\n",
       " 'genre': 'Fantasy',\n",
       " 'rating': 4.9}"
      ]
     },
     "execution_count": 13,
     "metadata": {},
     "output_type": "execute_result"
    }
   ],
   "source": [
    "book"
   ]
  },
  {
   "cell_type": "code",
   "execution_count": 12,
   "metadata": {},
   "outputs": [],
   "source": [
    "book[\"rating\"] = 4.9"
   ]
  },
  {
   "cell_type": "code",
   "execution_count": 14,
   "metadata": {},
   "outputs": [
    {
     "data": {
      "text/plain": [
       "['title', 'author', 'pages', 'publisher', 'type', 'genre', 'rating']"
      ]
     },
     "execution_count": 14,
     "metadata": {},
     "output_type": "execute_result"
    }
   ],
   "source": [
    "list(book.keys())"
   ]
  },
  {
   "cell_type": "code",
   "execution_count": 16,
   "metadata": {},
   "outputs": [
    {
     "data": {
      "text/plain": [
       "['The Lost Metal',\n",
       " 'Brandon Sanderson',\n",
       " 899,\n",
       " 'Tor Books',\n",
       " 'Hardcover',\n",
       " 'Fantasy',\n",
       " 4.9]"
      ]
     },
     "execution_count": 16,
     "metadata": {},
     "output_type": "execute_result"
    }
   ],
   "source": [
    "list(book.values())"
   ]
  },
  {
   "cell_type": "code",
   "execution_count": 17,
   "metadata": {},
   "outputs": [
    {
     "data": {
      "text/plain": [
       "[('title', 'The Lost Metal'),\n",
       " ('author', 'Brandon Sanderson'),\n",
       " ('pages', 899),\n",
       " ('publisher', 'Tor Books'),\n",
       " ('type', 'Hardcover'),\n",
       " ('genre', 'Fantasy'),\n",
       " ('rating', 4.9)]"
      ]
     },
     "execution_count": 17,
     "metadata": {},
     "output_type": "execute_result"
    }
   ],
   "source": [
    "list(book.items())"
   ]
  },
  {
   "cell_type": "code",
   "execution_count": 18,
   "metadata": {},
   "outputs": [
    {
     "name": "stdout",
     "output_type": "stream",
     "text": [
      "title The Lost Metal\n",
      "author Brandon Sanderson\n",
      "pages 899\n",
      "publisher Tor Books\n",
      "type Hardcover\n",
      "genre Fantasy\n",
      "rating 4.9\n"
     ]
    }
   ],
   "source": [
    "#normal loop gives only keys\n",
    "for i in book:\n",
    "    print(i,book[i])"
   ]
  },
  {
   "cell_type": "code",
   "execution_count": 19,
   "metadata": {},
   "outputs": [
    {
     "name": "stdout",
     "output_type": "stream",
     "text": [
      "title The Lost Metal\n",
      "author Brandon Sanderson\n",
      "pages 899\n",
      "publisher Tor Books\n",
      "type Hardcover\n",
      "genre Fantasy\n",
      "rating 4.9\n"
     ]
    }
   ],
   "source": [
    "for k, v in book.items():\n",
    "    print(k,v)"
   ]
  },
  {
   "cell_type": "code",
   "execution_count": 20,
   "metadata": {},
   "outputs": [
    {
     "name": "stdout",
     "output_type": "stream",
     "text": [
      "{'name': 'aryan', 'email': 'akanksha@123gmail.com', 'dob': '30/10/2005', 'password': '12345'}\n"
     ]
    }
   ],
   "source": [
    "# user input\n",
    "userdata = {}\n",
    "userdata[\"name\"] = input(\"Enter your name :\")\n",
    "userdata[\"email\"]= input(\"Enter your email:\")\n",
    "userdata[\"dob\"] = input(\"Enter your D.O.B:\")\n",
    "userdata[\"password\"] = input(\"Enter your password\")\n",
    "\n",
    "print(userdata)"
   ]
  },
  {
   "cell_type": "code",
   "execution_count": 21,
   "metadata": {},
   "outputs": [],
   "source": [
    "# nested dictionary\n",
    "report = {\n",
    "    \"Aditya\":{\n",
    "        \"english\":90,\n",
    "        \"hindi\":90,\n",
    "        \"Maths\":90,\n",
    "        \"Science\":90\n",
    "    },\n",
    "    \"utkarsh\":{\n",
    "         \"english\":85,\n",
    "         \"hindi\":75,\n",
    "         \"maths\":65,\n",
    "         \"science\":45\n",
    "    }\n",
    "}   "
   ]
  },
  {
   "cell_type": "code",
   "execution_count": 22,
   "metadata": {},
   "outputs": [
    {
     "data": {
      "text/plain": [
       "{'english': 90, 'hindi': 90, 'Maths': 90, 'Science': 90}"
      ]
     },
     "execution_count": 22,
     "metadata": {},
     "output_type": "execute_result"
    }
   ],
   "source": [
    "report[\"Aditya\"]"
   ]
  },
  {
   "cell_type": "code",
   "execution_count": 23,
   "metadata": {},
   "outputs": [
    {
     "data": {
      "text/plain": [
       "90"
      ]
     },
     "execution_count": 23,
     "metadata": {},
     "output_type": "execute_result"
    }
   ],
   "source": [
    "report[\"Aditya\"][\"Maths\"]"
   ]
  },
  {
   "cell_type": "code",
   "execution_count": 24,
   "metadata": {},
   "outputs": [
    {
     "name": "stdout",
     "output_type": "stream",
     "text": [
      "Aditya -> english 90\n",
      "Aditya -> hindi 90\n",
      "Aditya -> Maths 90\n",
      "Aditya -> Science 90\n",
      "utkarsh -> english 85\n",
      "utkarsh -> hindi 75\n",
      "utkarsh -> maths 65\n",
      "utkarsh -> science 45\n"
     ]
    }
   ],
   "source": [
    "for k, v in report. items():\n",
    "    for k1,v1 in v .items ():\n",
    "        print(k, \"->\",k1,v1)"
   ]
  },
  {
   "cell_type": "code",
   "execution_count": 25,
   "metadata": {},
   "outputs": [
    {
     "data": {
      "text/plain": [
       "'Brandon Sanderson'"
      ]
     },
     "execution_count": 25,
     "metadata": {},
     "output_type": "execute_result"
    }
   ],
   "source": [
    "book.pop(\"author\")"
   ]
  },
  {
   "cell_type": "code",
   "execution_count": 26,
   "metadata": {},
   "outputs": [
    {
     "data": {
      "text/plain": [
       "{1: 'kuchh bhi', 2: 'kuchh bhi', 3: 'kuchh bhi', 4: 'kuchh bhi'}"
      ]
     },
     "execution_count": 26,
     "metadata": {},
     "output_type": "execute_result"
    }
   ],
   "source": [
    "x =[1,2,3,4]\n",
    "dict.fromkeys(x,\"kuchh bhi\")"
   ]
  },
  {
   "cell_type": "code",
   "execution_count": 7,
   "metadata": {},
   "outputs": [],
   "source": [
    "students = [\"Aman\",\"Amar\",\"Amandeep\"]\n",
    "std_dict= dict.fromkeys(students,0)"
   ]
  },
  {
   "cell_type": "code",
   "execution_count": 8,
   "metadata": {},
   "outputs": [],
   "source": [
    "more_students = [\"Raju\",\"Rohan\",\"Rooh\"]\n",
    "more_std_dict = dict.fromkeys(more_students,0)"
   ]
  },
  {
   "cell_type": "code",
   "execution_count": 9,
   "metadata": {},
   "outputs": [],
   "source": [
    "std_dict.update(more_std_dict)"
   ]
  },
  {
   "cell_type": "code",
   "execution_count": 10,
   "metadata": {},
   "outputs": [
    {
     "data": {
      "text/plain": [
       "{'Aman': 0, 'Amar': 0, 'Amandeep': 0, 'Raju': 0, 'Rohan': 0, 'Rooh': 0}"
      ]
     },
     "execution_count": 10,
     "metadata": {},
     "output_type": "execute_result"
    }
   ],
   "source": [
    "std_dict"
   ]
  },
  {
   "cell_type": "code",
   "execution_count": 11,
   "metadata": {},
   "outputs": [
    {
     "data": {
      "text/plain": [
       "0"
      ]
     },
     "execution_count": 11,
     "metadata": {},
     "output_type": "execute_result"
    }
   ],
   "source": [
    "std_dict[\"Aman\"]"
   ]
  },
  {
   "cell_type": "code",
   "execution_count": 12,
   "metadata": {},
   "outputs": [
    {
     "data": {
      "text/plain": [
       "0"
      ]
     },
     "execution_count": 12,
     "metadata": {},
     "output_type": "execute_result"
    }
   ],
   "source": [
    "std_dict.get(\"Aman\")"
   ]
  },
  {
   "cell_type": "code",
   "execution_count": null,
   "metadata": {},
   "outputs": [],
   "source": []
  }
 ],
 "metadata": {
  "kernelspec": {
   "display_name": "base",
   "language": "python",
   "name": "python3"
  },
  "language_info": {
   "codemirror_mode": {
    "name": "ipython",
    "version": 3
   },
   "file_extension": ".py",
   "mimetype": "text/x-python",
   "name": "python",
   "nbconvert_exporter": "python",
   "pygments_lexer": "ipython3",
   "version": "3.10.8"
  },
  "orig_nbformat": 4
 },
 "nbformat": 4,
 "nbformat_minor": 2
}
